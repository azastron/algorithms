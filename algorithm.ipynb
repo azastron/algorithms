{
 "cells": [
  {
   "cell_type": "markdown",
   "metadata": {},
   "source": [
    "# Algorithms\n",
    "The algorithms that I come up with for answers to LeetCode or HackerRank coding questions."
   ]
  },
  {
   "cell_type": "markdown",
   "metadata": {},
   "source": [
    "### Binary Tree"
   ]
  },
  {
   "cell_type": "code",
   "execution_count": 1,
   "metadata": {},
   "outputs": [],
   "source": [
    "# Definition for a binary tree node.\n",
    "class TreeNode:\n",
    "    def __init__(self, val=0, left=None, right=None):\n",
    "        self.val = val\n",
    "        self.left = left\n",
    "        self.right = right\n",
    "\n",
    "class Solution:\n",
    "    def height(self, node):\n",
    "        if node is None:\n",
    "            return 0\n",
    "    \n",
    "        return 1 + max(self.height(node.left), self.height(node.right))\n",
    "\n",
    "    def diameterOfBinaryTree(self, root: TreeNode) -> int:\n",
    "        if root is None:\n",
    "            return 0\n",
    "\n",
    "        lheight = self.height(root.left)\n",
    "        rheight = self.height(root.right)\n",
    "\n",
    "        ldiameter = self.diameterOfBinaryTree(root.left)\n",
    "        rdiameter = self.diameterOfBinaryTree(root.right)\n",
    "\n",
    "        return max(lheight + rheight, max(ldiameter, rdiameter))"
   ]
  },
  {
   "cell_type": "code",
   "execution_count": 4,
   "metadata": {},
   "outputs": [
    {
     "name": "stdout",
     "output_type": "stream",
     "text": [
      "3\n"
     ]
    }
   ],
   "source": [
    "root = TreeNode(1)\n",
    "root.left = TreeNode(2)\n",
    "root.right = TreeNode(3)\n",
    "root.left.left = TreeNode(4)\n",
    "root.left.right = TreeNode(5)\n",
    "\n",
    "a = Solution()\n",
    "print(a.diameterOfBinaryTree(root))"
   ]
  },
  {
   "cell_type": "markdown",
   "metadata": {},
   "source": [
    "### Remove Duplicates"
   ]
  },
  {
   "cell_type": "code",
   "execution_count": 1,
   "metadata": {},
   "outputs": [],
   "source": [
    "# Input: nums = [0,0,1,1,1,2,2,3,3,4]\n",
    "# Output: 5, nums = [0,1,2,3,4]\n",
    "\n",
    "#class Solution:\n",
    "#    def removeDuplicates(self, nums: List[int]) -> int:\n",
    "def removeDupicates(nums):\n",
    "            for i in range(len(nums)-1,0,-1):\n",
    "                if nums[i] == nums[i-1]:\n",
    "                    del nums[i]\n",
    "            return print(int(len(nums)),nums)"
   ]
  },
  {
   "cell_type": "code",
   "execution_count": 2,
   "metadata": {},
   "outputs": [
    {
     "name": "stdout",
     "output_type": "stream",
     "text": [
      "5 [0, 1, 2, 3, 4]\n"
     ]
    }
   ],
   "source": [
    "nums = [0,0,1,1,1,2,2,3,3,4]\n",
    "removeDupicates(nums)"
   ]
  },
  {
   "cell_type": "markdown",
   "metadata": {},
   "source": [
    "### Greatest Common Divisor"
   ]
  },
  {
   "cell_type": "code",
   "execution_count": 4,
   "metadata": {},
   "outputs": [],
   "source": [
    "def gcd(a,b):\n",
    "    while (b != 0):\n",
    "        t = a\n",
    "        a = b \n",
    "        b = t % b\n",
    "    return a"
   ]
  },
  {
   "cell_type": "code",
   "execution_count": 5,
   "metadata": {},
   "outputs": [
    {
     "name": "stdout",
     "output_type": "stream",
     "text": [
      "4\n"
     ]
    }
   ],
   "source": [
    "print(gcd(8, 12))"
   ]
  },
  {
   "cell_type": "markdown",
   "metadata": {},
   "source": [
    "## Recursion"
   ]
  },
  {
   "cell_type": "markdown",
   "metadata": {},
   "source": [
    "### Countdown"
   ]
  },
  {
   "cell_type": "code",
   "execution_count": 26,
   "metadata": {},
   "outputs": [],
   "source": [
    "def countdown(x):\n",
    "    if x == 0:\n",
    "        print(\"Done!\")\n",
    "        return\n",
    "    else:\n",
    "        print(x, \"...\")\n",
    "        countdown(x-1)"
   ]
  },
  {
   "cell_type": "code",
   "execution_count": 27,
   "metadata": {},
   "outputs": [
    {
     "name": "stdout",
     "output_type": "stream",
     "text": [
      "5 ...\n",
      "4 ...\n",
      "3 ...\n",
      "2 ...\n",
      "1 ...\n",
      "Done!\n"
     ]
    }
   ],
   "source": [
    "countdown(5)"
   ]
  },
  {
   "cell_type": "markdown",
   "metadata": {},
   "source": [
    "### Power"
   ]
  },
  {
   "cell_type": "code",
   "execution_count": 28,
   "metadata": {},
   "outputs": [],
   "source": [
    "def power(num, pwr):\n",
    "    if pwr == 0:\n",
    "        return 1\n",
    "    else:\n",
    "        return num * power(num, pwr-1)"
   ]
  },
  {
   "cell_type": "code",
   "execution_count": 30,
   "metadata": {},
   "outputs": [
    {
     "data": {
      "text/plain": [
       "9"
      ]
     },
     "execution_count": 30,
     "metadata": {},
     "output_type": "execute_result"
    }
   ],
   "source": [
    "power(3,2)"
   ]
  },
  {
   "cell_type": "markdown",
   "metadata": {},
   "source": [
    "### Factorial"
   ]
  },
  {
   "cell_type": "code",
   "execution_count": 31,
   "metadata": {},
   "outputs": [],
   "source": [
    "def factorial(num):\n",
    "    if num == 0:\n",
    "        return 1\n",
    "    else:\n",
    "        return num * factorial(num-1)"
   ]
  },
  {
   "cell_type": "code",
   "execution_count": 37,
   "metadata": {},
   "outputs": [
    {
     "data": {
      "text/plain": [
       "120"
      ]
     },
     "execution_count": 37,
     "metadata": {},
     "output_type": "execute_result"
    }
   ],
   "source": [
    "factorial(5)"
   ]
  },
  {
   "cell_type": "markdown",
   "metadata": {},
   "source": [
    "### Fibonacci Number"
   ]
  },
  {
   "cell_type": "code",
   "execution_count": 57,
   "metadata": {},
   "outputs": [],
   "source": [
    "def fibonacci(number):\n",
    "    if number == 0:\n",
    "        return 0\n",
    "    if number == 1:\n",
    "        return 1\n",
    "    if number == 2:\n",
    "        return 1\n",
    "    else:\n",
    "        return fibonacci(number-1) + fibonacci(number-2)"
   ]
  },
  {
   "cell_type": "code",
   "execution_count": 61,
   "metadata": {},
   "outputs": [
    {
     "data": {
      "text/plain": [
       "144"
      ]
     },
     "execution_count": 61,
     "metadata": {},
     "output_type": "execute_result"
    }
   ],
   "source": [
    "fibonacci(12)"
   ]
  },
  {
   "cell_type": "markdown",
   "metadata": {},
   "source": [
    "### Bubble Sort"
   ]
  },
  {
   "cell_type": "code",
   "execution_count": 38,
   "metadata": {},
   "outputs": [],
   "source": [
    "def bubblesort(dataset):\n",
    "    for i in range(len(dataset)-1, 0, -1):\n",
    "        for j in range(i):\n",
    "            if dataset[j]>dataset[j+1]:\n",
    "                temp = dataset[j]\n",
    "                dataset[j] = dataset[j+1]\n",
    "                dataset[j+1] = temp   \n",
    "    print(dataset)"
   ]
  },
  {
   "cell_type": "code",
   "execution_count": 39,
   "metadata": {},
   "outputs": [],
   "source": [
    "list1 = [1,100, 2, 56, 80, 2, 4]"
   ]
  },
  {
   "cell_type": "code",
   "execution_count": 40,
   "metadata": {},
   "outputs": [],
   "source": [
    "bubblesort(list1)"
   ]
  },
  {
   "cell_type": "code",
   "execution_count": 41,
   "metadata": {},
   "outputs": [
    {
     "name": "stdout",
     "output_type": "stream",
     "text": [
      "[1, 2, 2, 4, 56, 80, 100]\n"
     ]
    }
   ],
   "source": [
    "print(list1)"
   ]
  },
  {
   "cell_type": "markdown",
   "metadata": {},
   "source": [
    "### Merge Sort"
   ]
  },
  {
   "cell_type": "code",
   "execution_count": 43,
   "metadata": {},
   "outputs": [],
   "source": [
    "items = [6, 20, 8, 19, 56, 23, 87, 41, 49, 53]"
   ]
  },
  {
   "cell_type": "code",
   "execution_count": 5,
   "metadata": {},
   "outputs": [],
   "source": [
    "def mergesort(dataset):\n",
    "    if len(dataset)>1:\n",
    "        mid = len(dataset) // 2\n",
    "        leftarr = dataset[:mid]\n",
    "        rightarr = dataset[mid:]\n",
    "\n",
    "        mergesort(leftarr)\n",
    "        mergesort(rightarr)\n",
    "        \n",
    "        i=0\n",
    "        j=0\n",
    "        k=0\n",
    "        \n",
    "        while i<len(leftarr) and j<len(rightarr):\n",
    "            if leftarr[i]<rightarr[j]:\n",
    "                dataset[k] = leftarr[i]\n",
    "                i += 1\n",
    "            else:\n",
    "                dataset[k] = rightarr[j]\n",
    "                j += 1\n",
    "            k += 1\n",
    "            \n",
    "        while i<len(leftarr):\n",
    "            dataset[k] = leftarr[i]\n",
    "            i += 1\n",
    "            k += 1\n",
    "            \n",
    "        while j<len(rightarr):\n",
    "            dataset[k] = rightarr[j]\n",
    "            j += 1\n",
    "            k += 1"
   ]
  },
  {
   "cell_type": "code",
   "execution_count": 42,
   "metadata": {},
   "outputs": [],
   "source": [
    "def mergesort(dataset, counter, side):\n",
    "    print (side, counter)\n",
    "    if len(dataset)>1:\n",
    "        mid = len(dataset) // 2\n",
    "        leftarr = dataset[:mid]\n",
    "        rightarr = dataset[mid:]\n",
    "\n",
    "        print(leftarr)\n",
    "        print (rightarr)\n",
    "        counter = counter+1\n",
    "        mergesort(leftarr, counter, side+' left')\n",
    "        mergesort(rightarr, counter, side+' right')\n",
    "        \n",
    "        i=0\n",
    "        j=0\n",
    "        k=0\n",
    "        \n",
    "        print(\"left array \", leftarr)\n",
    "        print (\"right array \", rightarr)\n",
    "        \n",
    "        while i<len(leftarr) and j<len(rightarr):\n",
    "            if leftarr[i]<rightarr[j]:\n",
    "                dataset[k] = leftarr[i]\n",
    "                print(\"done 1 \", leftarr[i], side)\n",
    "                i += 1\n",
    "            else:\n",
    "                dataset[k] = rightarr[j]\n",
    "                print(\"done 2 \", rightarr[j], side)\n",
    "                j += 1\n",
    "            k += 1\n",
    "            \n",
    "        while i<len(leftarr):\n",
    "            dataset[k] = leftarr[i]\n",
    "            print(\"done 3 \", leftarr[i], side)\n",
    "            i += 1\n",
    "            k += 1\n",
    "            \n",
    "        while j<len(rightarr):\n",
    "            dataset[k] = rightarr[j]\n",
    "            print(\"done 4 \", rightarr[j], side)\n",
    "            j += 1\n",
    "            k += 1"
   ]
  },
  {
   "cell_type": "code",
   "execution_count": 44,
   "metadata": {},
   "outputs": [
    {
     "name": "stdout",
     "output_type": "stream",
     "text": [
      "[6, 20, 8, 19, 56, 23, 87, 41, 49, 53]\n"
     ]
    }
   ],
   "source": [
    "print(items)"
   ]
  },
  {
   "cell_type": "code",
   "execution_count": 45,
   "metadata": {},
   "outputs": [
    {
     "name": "stdout",
     "output_type": "stream",
     "text": [
      "All 1\n",
      "[6, 20, 8, 19, 56]\n",
      "[23, 87, 41, 49, 53]\n",
      "All left 2\n",
      "[6, 20]\n",
      "[8, 19, 56]\n",
      "All left left 3\n",
      "[6]\n",
      "[20]\n",
      "All left left left 4\n",
      "All left left right 4\n",
      "left array  [6]\n",
      "right array  [20]\n",
      "done 1  6 All left left\n",
      "done 4  20 All left left\n",
      "All left right 3\n",
      "[8]\n",
      "[19, 56]\n",
      "All left right left 4\n",
      "All left right right 4\n",
      "[19]\n",
      "[56]\n",
      "All left right right left 5\n",
      "All left right right right 5\n",
      "left array  [19]\n",
      "right array  [56]\n",
      "done 1  19 All left right right\n",
      "done 4  56 All left right right\n",
      "left array  [8]\n",
      "right array  [19, 56]\n",
      "done 1  8 All left right\n",
      "done 4  19 All left right\n",
      "done 4  56 All left right\n",
      "left array  [6, 20]\n",
      "right array  [8, 19, 56]\n",
      "done 1  6 All left\n",
      "done 2  8 All left\n",
      "done 2  19 All left\n",
      "done 1  20 All left\n",
      "done 4  56 All left\n",
      "All right 2\n",
      "[23, 87]\n",
      "[41, 49, 53]\n",
      "All right left 3\n",
      "[23]\n",
      "[87]\n",
      "All right left left 4\n",
      "All right left right 4\n",
      "left array  [23]\n",
      "right array  [87]\n",
      "done 1  23 All right left\n",
      "done 4  87 All right left\n",
      "All right right 3\n",
      "[41]\n",
      "[49, 53]\n",
      "All right right left 4\n",
      "All right right right 4\n",
      "[49]\n",
      "[53]\n",
      "All right right right left 5\n",
      "All right right right right 5\n",
      "left array  [49]\n",
      "right array  [53]\n",
      "done 1  49 All right right right\n",
      "done 4  53 All right right right\n",
      "left array  [41]\n",
      "right array  [49, 53]\n",
      "done 1  41 All right right\n",
      "done 4  49 All right right\n",
      "done 4  53 All right right\n",
      "left array  [23, 87]\n",
      "right array  [41, 49, 53]\n",
      "done 1  23 All right\n",
      "done 2  41 All right\n",
      "done 2  49 All right\n",
      "done 2  53 All right\n",
      "done 3  87 All right\n",
      "left array  [6, 8, 19, 20, 56]\n",
      "right array  [23, 41, 49, 53, 87]\n",
      "done 1  6 All\n",
      "done 1  8 All\n",
      "done 1  19 All\n",
      "done 1  20 All\n",
      "done 2  23 All\n",
      "done 2  41 All\n",
      "done 2  49 All\n",
      "done 2  53 All\n",
      "done 1  56 All\n",
      "done 4  87 All\n"
     ]
    }
   ],
   "source": [
    "mergesort(items, 1, 'All')"
   ]
  },
  {
   "cell_type": "code",
   "execution_count": 8,
   "metadata": {},
   "outputs": [
    {
     "name": "stdout",
     "output_type": "stream",
     "text": [
      "[6, 8, 19, 20, 23, 41, 49, 53, 56, 87]\n"
     ]
    }
   ],
   "source": [
    "print(items)"
   ]
  },
  {
   "cell_type": "markdown",
   "metadata": {},
   "source": [
    "### Quicksort"
   ]
  },
  {
   "cell_type": "code",
   "execution_count": 72,
   "metadata": {},
   "outputs": [],
   "source": [
    "list1 = [20, 6, 8, 53, 23, 87, 42, 19]"
   ]
  },
  {
   "cell_type": "code",
   "execution_count": 73,
   "metadata": {},
   "outputs": [],
   "source": [
    "def quicksort(dataset, first, last):\n",
    "    if first < last:\n",
    "        pivotIdx = partition(dataset, first, last)\n",
    "        \n",
    "        quicksort(dataset, first, pivotIdx-1)\n",
    "        quicksort(dataset, pivotIdx+1, last)"
   ]
  },
  {
   "cell_type": "code",
   "execution_count": 74,
   "metadata": {},
   "outputs": [],
   "source": [
    "def partition(datavalues, first, last):\n",
    "    pivotvalue = datavalues[first]\n",
    "    lower = first + 1\n",
    "    upper = last\n",
    "    \n",
    "    done = False\n",
    "    while not done:\n",
    "        while lower <= upper and datavalues[lower] <= pivotvalue:\n",
    "            lower += 1\n",
    "        while datavalues[upper] >= pivotvalue and upper >= lower:\n",
    "            upper -= 1\n",
    "        if upper < lower:\n",
    "            done = True\n",
    "        else:\n",
    "            temp = datavalues[lower]\n",
    "            datavalues[lower] = datavalues[upper]\n",
    "            datavalues[upper] = temp\n",
    "    \n",
    "    temp = datavalues[first]\n",
    "    datavalues[first] = datavalues[upper]\n",
    "    datavalues[upper] = temp\n",
    "    \n",
    "    return upper\n",
    "        "
   ]
  },
  {
   "cell_type": "code",
   "execution_count": 75,
   "metadata": {},
   "outputs": [
    {
     "name": "stdout",
     "output_type": "stream",
     "text": [
      "[20, 6, 8, 53, 23, 87, 42, 19]\n"
     ]
    }
   ],
   "source": [
    "print(list1)"
   ]
  },
  {
   "cell_type": "code",
   "execution_count": 76,
   "metadata": {},
   "outputs": [],
   "source": [
    "quicksort(list1, 0, len(list1)-1)"
   ]
  },
  {
   "cell_type": "code",
   "execution_count": 77,
   "metadata": {},
   "outputs": [
    {
     "name": "stdout",
     "output_type": "stream",
     "text": [
      "[6, 8, 19, 20, 23, 42, 53, 87]\n"
     ]
    }
   ],
   "source": [
    "print(list1)"
   ]
  },
  {
   "cell_type": "code",
   "execution_count": 1,
   "metadata": {},
   "outputs": [],
   "source": [
    "T = [[11, 12, 5, 2], [15, 6,10], [10, 8, 12, 5], [12,15,8,6]]"
   ]
  },
  {
   "cell_type": "code",
   "execution_count": 2,
   "metadata": {},
   "outputs": [
    {
     "data": {
      "text/plain": [
       "4"
      ]
     },
     "execution_count": 2,
     "metadata": {},
     "output_type": "execute_result"
    }
   ],
   "source": [
    "len(T)"
   ]
  },
  {
   "cell_type": "code",
   "execution_count": 3,
   "metadata": {},
   "outputs": [
    {
     "data": {
      "text/plain": [
       "[15, 6, 10]"
      ]
     },
     "execution_count": 3,
     "metadata": {},
     "output_type": "execute_result"
    }
   ],
   "source": [
    "T[1]"
   ]
  },
  {
   "cell_type": "code",
   "execution_count": 4,
   "metadata": {},
   "outputs": [
    {
     "data": {
      "text/plain": [
       "6"
      ]
     },
     "execution_count": 4,
     "metadata": {},
     "output_type": "execute_result"
    }
   ],
   "source": [
    "T[1][1]"
   ]
  },
  {
   "cell_type": "code",
   "execution_count": 6,
   "metadata": {},
   "outputs": [
    {
     "name": "stdout",
     "output_type": "stream",
     "text": [
      " #\n"
     ]
    }
   ],
   "source": [
    "print(\" \"+\"#\")"
   ]
  },
  {
   "cell_type": "code",
   "execution_count": 10,
   "metadata": {},
   "outputs": [],
   "source": [
    "def miniMaxSum(arr):\n",
    "    tempmax = arr[0]\n",
    "    tempmin = arr[0]\n",
    "    sumarr = 0\n",
    "    \n",
    "    for i in range(len(arr)):\n",
    "        if arr[i]>tempmax:\n",
    "            tempmax = arr[i]\n",
    "        if arr[i]<tempmin:\n",
    "            tempmin = arr[i]\n",
    "        sumarr += arr[i]\n",
    "    maxsumarr = sumarr - tempmin\n",
    "    minsumarr = sumarr - tempmax\n",
    "\n",
    "    return print(minsumarr, maxsumarr)"
   ]
  },
  {
   "cell_type": "code",
   "execution_count": 11,
   "metadata": {},
   "outputs": [],
   "source": [
    "arr1 = [1,4, 6, 7, 10]"
   ]
  },
  {
   "cell_type": "code",
   "execution_count": 12,
   "metadata": {},
   "outputs": [
    {
     "name": "stdout",
     "output_type": "stream",
     "text": [
      "18 27\n"
     ]
    }
   ],
   "source": [
    "miniMaxSum(arr1)"
   ]
  },
  {
   "cell_type": "code",
   "execution_count": 13,
   "metadata": {},
   "outputs": [
    {
     "data": {
      "text/plain": [
       "1"
      ]
     },
     "execution_count": 13,
     "metadata": {},
     "output_type": "execute_result"
    }
   ],
   "source": [
    "d1=1\n",
    "d2=3\n",
    "min(d1,d2)"
   ]
  },
  {
   "cell_type": "code",
   "execution_count": 50,
   "metadata": {},
   "outputs": [],
   "source": [
    "def formingMagicSquare(s):\n",
    "\n",
    "    list1 = [1,8,3,4,9,2,7,6]\n",
    "    list2 = [1,6,7,2,9,4,3,8]\n",
    "    \n",
    "    listinput=[s[0][1],s[0][2],s[1][2],s[2][2],s[2][1],s[2][0],s[1][0],s[0][0]] \n",
    "    \n",
    "    diff1=0\n",
    "    diff2=0\n",
    "    diff3=0\n",
    "    diff4=0\n",
    "    diff5=0\n",
    "    diff6=0\n",
    "    diff7=0\n",
    "    diff8=0\n",
    "\n",
    "    for k in range(8):\n",
    "        diff1 += abs(listinput[k]-list1[k])\n",
    "        diff2 += abs(listinput[k]-list2[k])\n",
    "\n",
    "        diff3 += abs(listinput[k]-list1[(k+2)%8])\n",
    "        diff4 += abs(listinput[k]-list2[(k+2)%8])\n",
    "        \n",
    "        diff5 += abs(listinput[k]-list1[(k+4)%8])\n",
    "        diff6 += abs(listinput[k]-list2[(k+4)%8])\n",
    "\n",
    "        diff7 += abs(listinput[k]-list1[(k+6)%8])\n",
    "        diff8 += abs(listinput[k]-list2[(k+6)%8])\n",
    "        \n",
    "    \n",
    "\n",
    "    diff = min(diff1,diff2,diff3,diff4,diff5,diff6,diff7,diff8)\n",
    "    return diff+abs(s[1][1]-5)\n"
   ]
  },
  {
   "cell_type": "code",
   "execution_count": 51,
   "metadata": {},
   "outputs": [],
   "source": [
    "s = [[4,8,2],[4,5,7],[6,1,6]]"
   ]
  },
  {
   "cell_type": "code",
   "execution_count": 52,
   "metadata": {},
   "outputs": [
    {
     "name": "stdout",
     "output_type": "stream",
     "text": [
      "36 30 26 14 4 14 24 32\n"
     ]
    },
    {
     "data": {
      "text/plain": [
       "4"
      ]
     },
     "execution_count": 52,
     "metadata": {},
     "output_type": "execute_result"
    }
   ],
   "source": [
    "formingMagicSquare(s)"
   ]
  },
  {
   "cell_type": "code",
   "execution_count": 27,
   "metadata": {},
   "outputs": [
    {
     "data": {
      "text/plain": [
       "[8, 2, 7, 6, 1, 6, 4, 4, 5]"
      ]
     },
     "execution_count": 27,
     "metadata": {},
     "output_type": "execute_result"
    }
   ],
   "source": [
    "l"
   ]
  },
  {
   "cell_type": "code",
   "execution_count": 30,
   "metadata": {},
   "outputs": [],
   "source": [
    "list1 = [1,8,3,4,9,2,7,6,5]\n",
    "list2 = [1,6,7,2,9,4,3,8,5]"
   ]
  },
  {
   "cell_type": "code",
   "execution_count": 32,
   "metadata": {},
   "outputs": [],
   "source": [
    "diff1=0\n",
    "diff2=0\n",
    "diff3=0\n",
    "diff4=0\n",
    "diff5=0\n",
    "diff6=0\n",
    "diff7=0\n",
    "diff8=0"
   ]
  },
  {
   "cell_type": "code",
   "execution_count": 42,
   "metadata": {},
   "outputs": [
    {
     "name": "stdout",
     "output_type": "stream",
     "text": [
      "1\n",
      "2\n",
      "4\n",
      "2\n",
      "4\n",
      "5\n",
      "2\n",
      "3\n",
      "3\n"
     ]
    }
   ],
   "source": [
    "for k in range(9):\n",
    "        #print(abs(l[k]-list1[k]))\n",
    "        \n",
    "        #print(abs(l[k]-list2[k]))\n",
    "\n",
    "        #print(abs(l[k]-list1[(k+2)%9]))\n",
    "        #print(abs(l[k]-list2[(k+2)%9]))\n",
    "\n",
    "        #print(abs(l[k]-list1[(k+4)%9]))\n",
    "        #print(abs(l[k]-list2[(k+4)%9]))\n",
    "\n",
    "        diff7 += abs(l[k]-list1[(k+6)%9])\n",
    "        diff8 += abs(l[k]-list2[(k+6)%9])"
   ]
  },
  {
   "cell_type": "code",
   "execution_count": 35,
   "metadata": {},
   "outputs": [
    {
     "name": "stdout",
     "output_type": "stream",
     "text": [
      "30\n"
     ]
    }
   ],
   "source": [
    "print(diff2)"
   ]
  },
  {
   "cell_type": "code",
   "execution_count": 160,
   "metadata": {},
   "outputs": [],
   "source": [
    "def climbingLeaderboard(scores, alice):\n",
    "    r=[1]\n",
    "    count=1\n",
    "    listrank=[]\n",
    "    for n in range(len(scores)-1):\n",
    "        if scores[n]>scores[n+1]:\n",
    "            count = count+1\n",
    "            r.append(count)\n",
    "        else:\n",
    "            r.append(count)\n",
    "            \n",
    "    for m in range(len(alice)):\n",
    "        for n in range(len(scores)-1):\n",
    "            if alice[m] < scores[n]:\n",
    "                rank = r[n+1]\n",
    "                print(\"first if\",m, n, rank)\n",
    "            if alice[m] >= scores[n]:\n",
    "                rank = r[n]\n",
    "                print(\"second if\",m, n, rank)\n",
    "                break\n",
    "          \n",
    "        if alice[m] < scores[len(scores)-1]:\n",
    "            rank +=1\n",
    "            print(\"last loop\", m, n, rank)\n",
    "                \n",
    "        listrank.append(rank)\n",
    "        \n",
    "    return listrank"
   ]
  },
  {
   "cell_type": "code",
   "execution_count": 185,
   "metadata": {},
   "outputs": [],
   "source": [
    "scores = [100, 90, 90, 80, 75, 60]\n",
    "alice = [50, 65, 77, 90, 102]"
   ]
  },
  {
   "cell_type": "markdown",
   "metadata": {},
   "source": [
    "**Solution 1**"
   ]
  },
  {
   "cell_type": "code",
   "execution_count": 190,
   "metadata": {},
   "outputs": [
    {
     "name": "stdout",
     "output_type": "stream",
     "text": [
      "6\n",
      "5\n",
      "4\n",
      "2\n",
      "1\n"
     ]
    }
   ],
   "source": [
    "leaderboard = sorted(set(scores), reverse = True)\n",
    "\n",
    "for a in alice:\n",
    "    res = sorted(leaderboard+[a], reverse = True)\n",
    "    print (res.index(a)+1)"
   ]
  },
  {
   "cell_type": "markdown",
   "metadata": {},
   "source": [
    "**Solution 2**"
   ]
  },
  {
   "cell_type": "code",
   "execution_count": 188,
   "metadata": {},
   "outputs": [
    {
     "name": "stdout",
     "output_type": "stream",
     "text": [
      "6\n",
      "5\n",
      "4\n",
      "2\n",
      "1\n"
     ]
    }
   ],
   "source": [
    "leaderboard = sorted(set(scores), reverse = True)\n",
    "l = len(leaderboard)\n",
    "\n",
    "for a in alice:\n",
    "    while (l > 0) and (a >= leaderboard[l-1]):\n",
    "        l -= 1\n",
    "    print (l+1)"
   ]
  },
  {
   "cell_type": "code",
   "execution_count": 162,
   "metadata": {},
   "outputs": [
    {
     "ename": "UnboundLocalError",
     "evalue": "local variable 'rank' referenced before assignment",
     "output_type": "error",
     "traceback": [
      "\u001b[0;31m---------------------------------------------------------------------------\u001b[0m",
      "\u001b[0;31mUnboundLocalError\u001b[0m                         Traceback (most recent call last)",
      "\u001b[0;32m<ipython-input-162-7e366716f80e>\u001b[0m in \u001b[0;36m<module>\u001b[0;34m\u001b[0m\n\u001b[0;32m----> 1\u001b[0;31m \u001b[0mclimbingLeaderboard\u001b[0m\u001b[0;34m(\u001b[0m\u001b[0ms\u001b[0m\u001b[0;34m,\u001b[0m\u001b[0ma\u001b[0m\u001b[0;34m)\u001b[0m\u001b[0;34m\u001b[0m\u001b[0;34m\u001b[0m\u001b[0m\n\u001b[0m",
      "\u001b[0;32m<ipython-input-160-4e0cce327554>\u001b[0m in \u001b[0;36mclimbingLeaderboard\u001b[0;34m(scores, alice)\u001b[0m\n\u001b[1;32m     24\u001b[0m             \u001b[0mprint\u001b[0m\u001b[0;34m(\u001b[0m\u001b[0;34m\"last loop\"\u001b[0m\u001b[0;34m,\u001b[0m \u001b[0mm\u001b[0m\u001b[0;34m,\u001b[0m \u001b[0mn\u001b[0m\u001b[0;34m,\u001b[0m \u001b[0mrank\u001b[0m\u001b[0;34m)\u001b[0m\u001b[0;34m\u001b[0m\u001b[0;34m\u001b[0m\u001b[0m\n\u001b[1;32m     25\u001b[0m \u001b[0;34m\u001b[0m\u001b[0m\n\u001b[0;32m---> 26\u001b[0;31m         \u001b[0mlistrank\u001b[0m\u001b[0;34m.\u001b[0m\u001b[0mappend\u001b[0m\u001b[0;34m(\u001b[0m\u001b[0mrank\u001b[0m\u001b[0;34m)\u001b[0m\u001b[0;34m\u001b[0m\u001b[0;34m\u001b[0m\u001b[0m\n\u001b[0m\u001b[1;32m     27\u001b[0m \u001b[0;34m\u001b[0m\u001b[0m\n\u001b[1;32m     28\u001b[0m     \u001b[0;32mreturn\u001b[0m \u001b[0mlistrank\u001b[0m\u001b[0;34m\u001b[0m\u001b[0;34m\u001b[0m\u001b[0m\n",
      "\u001b[0;31mUnboundLocalError\u001b[0m: local variable 'rank' referenced before assignment"
     ]
    }
   ],
   "source": [
    "climbingLeaderboard(s,a)"
   ]
  },
  {
   "cell_type": "code",
   "execution_count": 108,
   "metadata": {},
   "outputs": [],
   "source": [
    "def rank(scores):\n",
    "    r=[1]\n",
    "    count=1\n",
    "    for n in range(len(scores)-1):\n",
    "        if scores[n]>scores[n+1]:\n",
    "            count = count+1\n",
    "            r.append(count)\n",
    "        else:\n",
    "            r.append(count)\n",
    "    return r"
   ]
  },
  {
   "cell_type": "code",
   "execution_count": 109,
   "metadata": {},
   "outputs": [
    {
     "data": {
      "text/plain": [
       "[1, 1, 2, 2, 2, 3, 4, 4]"
      ]
     },
     "execution_count": 109,
     "metadata": {},
     "output_type": "execute_result"
    }
   ],
   "source": [
    "rank(s)"
   ]
  },
  {
   "cell_type": "markdown",
   "metadata": {},
   "source": [
    "**How many pair of socks are there in this array with each element is a sock color code?**"
   ]
  },
  {
   "cell_type": "code",
   "execution_count": 195,
   "metadata": {},
   "outputs": [],
   "source": [
    "import numpy"
   ]
  },
  {
   "cell_type": "code",
   "execution_count": 196,
   "metadata": {},
   "outputs": [],
   "source": [
    "number_list = numpy.array([1, 1, 2, 3, 4, 4, 1])"
   ]
  },
  {
   "cell_type": "code",
   "execution_count": 197,
   "metadata": {},
   "outputs": [],
   "source": [
    "(unique, counts) = numpy.unique(number_list, return_counts=True)"
   ]
  },
  {
   "cell_type": "code",
   "execution_count": 200,
   "metadata": {},
   "outputs": [],
   "source": [
    "frequencies = numpy.asarray((unique, counts))"
   ]
  },
  {
   "cell_type": "code",
   "execution_count": 201,
   "metadata": {},
   "outputs": [
    {
     "data": {
      "text/plain": [
       "array([[1, 2, 3, 4],\n",
       "       [3, 1, 1, 2]])"
      ]
     },
     "execution_count": 201,
     "metadata": {},
     "output_type": "execute_result"
    }
   ],
   "source": [
    "frequencies"
   ]
  },
  {
   "cell_type": "code",
   "execution_count": 202,
   "metadata": {},
   "outputs": [
    {
     "data": {
      "text/plain": [
       "array([[1, 3],\n",
       "       [2, 1],\n",
       "       [3, 1],\n",
       "       [4, 2]])"
      ]
     },
     "execution_count": 202,
     "metadata": {},
     "output_type": "execute_result"
    }
   ],
   "source": [
    "frequencies.T"
   ]
  },
  {
   "cell_type": "code",
   "execution_count": 219,
   "metadata": {},
   "outputs": [],
   "source": [
    "def sockMerchant(n, ar):\n",
    "    (unique, count) = np.unique(ar, return_counts=True)\n",
    "    ct = count/2.0\n",
    "    ctint = ct.astype(int)\n",
    "    return sum(ctint)"
   ]
  },
  {
   "cell_type": "code",
   "execution_count": 220,
   "metadata": {},
   "outputs": [
    {
     "data": {
      "text/plain": [
       "2"
      ]
     },
     "execution_count": 220,
     "metadata": {},
     "output_type": "execute_result"
    }
   ],
   "source": [
    "sockMerchant(7, number_list)"
   ]
  },
  {
   "cell_type": "markdown",
   "metadata": {},
   "source": [
    "**without numpy or pandas**"
   ]
  },
  {
   "cell_type": "code",
   "execution_count": 292,
   "metadata": {},
   "outputs": [],
   "source": [
    "n_list = [6, 5, 2, 3, 5, 2, 2, 1, 1, 5, 1, 3, 3, 3, 5]"
   ]
  },
  {
   "cell_type": "code",
   "execution_count": 360,
   "metadata": {},
   "outputs": [
    {
     "data": {
      "text/plain": [
       "{6: 0, 5: 2, 2: 1, 3: 2, 1: 1}"
      ]
     },
     "execution_count": 360,
     "metadata": {},
     "output_type": "execute_result"
    }
   ],
   "source": [
    "countlist = {x:int(n_list.count(x)/2) for x in n_list}\n",
    "countlist"
   ]
  },
  {
   "cell_type": "code",
   "execution_count": 313,
   "metadata": {},
   "outputs": [
    {
     "name": "stdout",
     "output_type": "stream",
     "text": [
      "{6: 0, 5: 2, 2: 1, 3: 2, 1: 1}\n",
      "6\n"
     ]
    }
   ],
   "source": [
    "countlist = {}\n",
    "for x in n_list:\n",
    "    counts = n_list.count(x)\n",
    "    npairs = int(counts/2)\n",
    "    countlist.update({x:npairs})\n",
    "print(countlist)\n",
    "print(sum(countlist.values()))"
   ]
  },
  {
   "cell_type": "markdown",
   "metadata": {},
   "source": [
    "**Hourglass 2D Array**"
   ]
  },
  {
   "cell_type": "code",
   "execution_count": 315,
   "metadata": {},
   "outputs": [],
   "source": [
    "ar = [[-9, -9, -9, 1, 1, 1],\n",
    "      [0, -9, 0, 4, 3, 2],\n",
    "      [-9, -9, -9, 1, 2, 3],\n",
    "      [0, 0, 8, 6, 6, 0],\n",
    "      [0, 0, 0, -2, 0, 0],\n",
    "      [0, 0, 1, 2, 4, 0]]"
   ]
  },
  {
   "cell_type": "code",
   "execution_count": 320,
   "metadata": {},
   "outputs": [
    {
     "data": {
      "text/plain": [
       "(-9, -9, -9)"
      ]
     },
     "execution_count": 320,
     "metadata": {},
     "output_type": "execute_result"
    }
   ],
   "source": [
    "ar[0][0], ar[0][1], ar[0][2]"
   ]
  },
  {
   "cell_type": "code",
   "execution_count": 319,
   "metadata": {},
   "outputs": [
    {
     "data": {
      "text/plain": [
       "(1, 1, 1)"
      ]
     },
     "execution_count": 319,
     "metadata": {},
     "output_type": "execute_result"
    }
   ],
   "source": [
    "ar[0][3], ar[0][4], ar[0][5]"
   ]
  },
  {
   "cell_type": "code",
   "execution_count": 355,
   "metadata": {},
   "outputs": [
    {
     "name": "stdout",
     "output_type": "stream",
     "text": [
      "[-63, -34, -9, 12, -10, 0, 28, 23, -27, -11, -2, 10, 9, 17, 25, 18]\n"
     ]
    }
   ],
   "source": [
    "sumar_list=[]\n",
    "for l in range(4):\n",
    "    for k in range(4):\n",
    "        sumar=0\n",
    "        for i in range(l,l+3,1):\n",
    "            for j in range(k,k+3,1):\n",
    "                sumar += ar[i][j]\n",
    "        sumar_list.append(sumar - (ar[l+1][k] + ar[l+1][k+2]))\n",
    "print(sumar_list)"
   ]
  },
  {
   "cell_type": "code",
   "execution_count": 356,
   "metadata": {},
   "outputs": [
    {
     "data": {
      "text/plain": [
       "28"
      ]
     },
     "execution_count": 356,
     "metadata": {},
     "output_type": "execute_result"
    }
   ],
   "source": [
    "max(sumar_list)"
   ]
  },
  {
   "cell_type": "markdown",
   "metadata": {},
   "source": [
    "**fig in matplotlib - object oriented interface**"
   ]
  },
  {
   "cell_type": "code",
   "execution_count": 364,
   "metadata": {},
   "outputs": [],
   "source": [
    "%matplotlib inline\n",
    "import matplotlib.pyplot as plt"
   ]
  },
  {
   "cell_type": "code",
   "execution_count": 366,
   "metadata": {},
   "outputs": [
    {
     "data": {
      "text/plain": [
       "[<matplotlib.lines.Line2D at 0x7f9be7315f90>]"
      ]
     },
     "execution_count": 366,
     "metadata": {},
     "output_type": "execute_result"
    },
    {
     "data": {
      "image/png": "[encoded data removed]",
      "text/plain": [
       "<Figure size 432x288 with 4 Axes>"
      ]
     },
     "metadata": {
      "needs_background": "light"
     },
     "output_type": "display_data"
    }
   ],
   "source": [
    "sin=np.sin(np.linspace(-4,4,100))\n",
    "\n",
    "fig, axes = plt.subplots(2, 2)\n",
    "axes[0,0].plot(sin)\n",
    "axes[0,1].plot(sin, c='r')"
   ]
  },
  {
   "cell_type": "markdown",
   "metadata": {},
   "source": [
    "**Class and Instances and Methods**"
   ]
  },
  {
   "cell_type": "code",
   "execution_count": 583,
   "metadata": {},
   "outputs": [
    {
     "name": "stdout",
     "output_type": "stream",
     "text": [
      "3\n",
      "-2\n",
      "Age is not valid, setting age to 0.\n",
      "You are young.\n",
      "You are young.\n",
      "\n",
      "4\n",
      "You are young.\n",
      "You are young.\n",
      "\n",
      "21\n",
      "You are old.\n",
      "You are old.\n",
      "\n"
     ]
    }
   ],
   "source": [
    "class Person:\n",
    "    # init method or constructor\n",
    "    def __init__(self,initialAge):\n",
    "        # Add some more code to run some checks on initialAge\n",
    "        if initialAge > 0:\n",
    "            self.age = initialAge\n",
    "        else:\n",
    "            self.age = 0\n",
    "            print(\"Age is not valid, setting age to 0.\")\n",
    "\n",
    "    def amIOld(self):\n",
    "        # Do some computations in here and print out the correct statement to the console\n",
    "        if self.age < 13:\n",
    "            print(\"You are young.\")\n",
    "        elif ((self.age >=13) & (self.age<18)):\n",
    "            print(\"You are a teenager.\")\n",
    "        else:\n",
    "            print(\"You are old.\")\n",
    "\n",
    "    def yearPasses(self):\n",
    "        # Increment the age of the person in here\n",
    "        self.age += 1\n",
    "\n",
    "t = int(input())\n",
    "for i in range(0, t):\n",
    "    age = int(input())         \n",
    "    p = Person(age)  \n",
    "    p.amIOld()\n",
    "    for j in range(0, 3):\n",
    "        p.yearPasses()       \n",
    "    p.amIOld()\n",
    "    print(\"\")"
   ]
  },
  {
   "cell_type": "code",
   "execution_count": 8,
   "metadata": {},
   "outputs": [],
   "source": [
    "class individual:\n",
    "    def __init__(self, age):\n",
    "        self.age = age\n",
    "        \n",
    "    def old(self):\n",
    "        if self.age < 0:\n",
    "            return None\n",
    "        if self.age > 80:\n",
    "            return True\n",
    "        else:\n",
    "            return False            "
   ]
  },
  {
   "cell_type": "code",
   "execution_count": 11,
   "metadata": {},
   "outputs": [
    {
     "name": "stdout",
     "output_type": "stream",
     "text": [
      "True\n"
     ]
    }
   ],
   "source": [
    "# 86 (for the age) is an argument that passed to the __init__ method to initialize the object (age).\n",
    "person = individual(86)\n",
    "person_age = person.old()\n",
    "print(person_age)"
   ]
  },
  {
   "cell_type": "markdown",
   "metadata": {},
   "source": [
    "**Take a number n and n strings, then printout the even and odd characters on one line**"
   ]
  },
  {
   "cell_type": "code",
   "execution_count": 24,
   "metadata": {},
   "outputs": [
    {
     "name": "stdout",
     "output_type": "stream",
     "text": [
      "3\n",
      "hello\n",
      "hlo el\n",
      "aghahi\n",
      "ahh gai\n",
      "goli\n",
      "gl oi\n"
     ]
    }
   ],
   "source": [
    "def oddevenchar(word):\n",
    "    evenword=''\n",
    "    oddword=''\n",
    "    for i in range(len(word)):\n",
    "        if i%2==0:\n",
    "            evenword += word[i]\n",
    "        else:\n",
    "            oddword += word[i]\n",
    "    return print(evenword + ' ' + oddword)\n",
    "\n",
    "t = int(input())\n",
    "\n",
    "for i in range(0, t):\n",
    "    word = str(input())\n",
    "    oddevenchar(word)"
   ]
  },
  {
   "cell_type": "markdown",
   "metadata": {},
   "source": [
    "**reverse the array and print on one line**"
   ]
  },
  {
   "cell_type": "code",
   "execution_count": 33,
   "metadata": {},
   "outputs": [
    {
     "name": "stdout",
     "output_type": "stream",
     "text": [
      "6 5 2 1 \n"
     ]
    }
   ],
   "source": [
    "arr=[1, 2, 5, 6]\n",
    "\n",
    "l=''\n",
    "for i in range(len(arr), 0, -1):\n",
    "    l += str(arr[i-1])\n",
    "    l += ' '\n",
    "print(l)"
   ]
  },
  {
   "cell_type": "markdown",
   "metadata": {},
   "source": [
    "### Enter a number, then for the total of that number, enter name and phone number. Then query the dictionary with a name for a number. "
   ]
  },
  {
   "cell_type": "code",
   "execution_count": 31,
   "metadata": {},
   "outputs": [
    {
     "name": "stdout",
     "output_type": "stream",
     "text": [
      "Enter the number of entries: 3\n",
      "Enter name and 8-digit phone number: A 11111111\n",
      "Enter name and 8-digit phone number: B 22222222\n",
      "Enter name and 8-digit phone number: C 33333333\n"
     ]
    }
   ],
   "source": [
    "t = int(input(\"Enter the number of entries: \"))\n",
    "namephone={}\n",
    "\n",
    "for i in range(0, t):\n",
    "    name, phone = input(\"Enter name and 8-digit phone number: \").split()\n",
    "    namephone.update({name:phone})\n",
    "    try:\n",
    "        if len(phone) != 8:\n",
    "            raise ValueError(\"Please enter an 8-digit phone number!\")\n",
    "    except ValueError:\n",
    "        print(\"Please enter an 8-digit phone number!\")"
   ]
  },
  {
   "cell_type": "code",
   "execution_count": 32,
   "metadata": {},
   "outputs": [
    {
     "data": {
      "text/plain": [
       "{'A': '11111111', 'B': '22222222', 'C': '33333333'}"
      ]
     },
     "execution_count": 32,
     "metadata": {},
     "output_type": "execute_result"
    }
   ],
   "source": [
    "namephone"
   ]
  },
  {
   "cell_type": "code",
   "execution_count": 44,
   "metadata": {},
   "outputs": [
    {
     "name": "stdout",
     "output_type": "stream",
     "text": [
      "Enter a name to look up! To quit, type quit. A\n",
      "A=11111111\n",
      "Enter a name to look up! To quit, type quit. AA\n",
      "Not found\n",
      "Enter a name to look up! To quit, type quit. B\n",
      "B=22222222\n",
      "Enter a name to look up! To quit, type quit. quit\n",
      "Not found\n"
     ]
    }
   ],
   "source": [
    "while True:\n",
    "    try:\n",
    "        qname = input(\"Enter a name to look up! To quit, type quit. \")\n",
    "\n",
    "        if qname in namephone:\n",
    "            print(\"%s=%s\" % (qname, namephone[qname]))\n",
    "        else:\n",
    "            print(\"Not found\")\n",
    "    except:\n",
    "        break            "
   ]
  },
  {
   "cell_type": "code",
   "execution_count": 49,
   "metadata": {},
   "outputs": [
    {
     "name": "stdout",
     "output_type": "stream",
     "text": [
      "2\n",
      "A 12345678\n",
      "B 12\n",
      "Please enter an 8-digit phone number!\n"
     ]
    }
   ],
   "source": [
    "t = int(input())\n",
    "namephone={}\n",
    "\n",
    "for i in range(t):\n",
    "    name, phone = input().split()\n",
    "    namephone.update({name:phone})\n",
    "    try:\n",
    "        if len(phone) != 8:\n",
    "            raise ValueError\n",
    "    except ValueError:\n",
    "        print(\"Please enter an 8-digit phone number!\")\n",
    "        \n",
    "while True:\n",
    "    try:\n",
    "        qname = input()\n",
    "\n",
    "        if qname in namephone:\n",
    "            print(\"%s=%s\" % (qname, namephone[qname]))\n",
    "        else:\n",
    "            print(\"Not found\")\n",
    "    except:\n",
    "        break "
   ]
  },
  {
   "cell_type": "markdown",
   "metadata": {},
   "source": [
    "# Binary numbers\n",
    "Given a base-10 integer, n, convert it to binary (base-2). Then find and print the base-10 integer denoting the maximum number of consecutive 1's in n's binary representation."
   ]
  },
  {
   "cell_type": "code",
   "execution_count": 163,
   "metadata": {},
   "outputs": [
    {
     "name": "stdout",
     "output_type": "stream",
     "text": [
      "13\n",
      "2\n"
     ]
    }
   ],
   "source": [
    "#!/bin/python3\n",
    "\n",
    "import math\n",
    "import os\n",
    "import random\n",
    "import re\n",
    "import sys\n",
    "\n",
    "l = []\n",
    "def binary(n):\n",
    "    coef = n // 2\n",
    "    res = n % 2\n",
    "    if coef != 0:\n",
    "        #print(coef, res)\n",
    "        binary(coef)\n",
    "        l.append(res)\n",
    "    else:\n",
    "        res = 1\n",
    "        #print(coef, res)\n",
    "        l.append(res)\n",
    "    return l\n",
    "\n",
    "\n",
    "\n",
    "if __name__ == '__main__':\n",
    "    n = int(input())\n",
    "\n",
    "    list1=binary(n)\n",
    "    count=0\n",
    "    listc=[]\n",
    "    for i in range(len(list1)):\n",
    "        if list1[i]==1:\n",
    "            count += 1\n",
    "        else:\n",
    "            count = 0\n",
    "        listc.append(count)\n",
    "    print(max(listc))\n"
   ]
  },
  {
   "cell_type": "code",
   "execution_count": null,
   "metadata": {},
   "outputs": [],
   "source": []
  },
  {
   "cell_type": "markdown",
   "metadata": {},
   "source": [
    "## Algorithm Concept Reminders"
   ]
  },
  {
   "cell_type": "markdown",
   "metadata": {},
   "source": [
    "### Stack"
   ]
  },
  {
   "cell_type": "code",
   "execution_count": 6,
   "metadata": {},
   "outputs": [
    {
     "name": "stdout",
     "output_type": "stream",
     "text": [
      "[1, 2, 3, 4]\n"
     ]
    }
   ],
   "source": [
    "stack = []\n",
    "stack.append(1)\n",
    "stack.append(2)\n",
    "stack.append(3)\n",
    "stack.append(4)\n",
    "\n",
    "print(stack)"
   ]
  },
  {
   "cell_type": "code",
   "execution_count": 7,
   "metadata": {},
   "outputs": [],
   "source": [
    "x = stack.pop()"
   ]
  },
  {
   "cell_type": "code",
   "execution_count": 8,
   "metadata": {},
   "outputs": [
    {
     "name": "stdout",
     "output_type": "stream",
     "text": [
      "4\n"
     ]
    }
   ],
   "source": [
    "print(x)"
   ]
  },
  {
   "cell_type": "code",
   "execution_count": 9,
   "metadata": {},
   "outputs": [
    {
     "name": "stdout",
     "output_type": "stream",
     "text": [
      "[1, 2, 3]\n"
     ]
    }
   ],
   "source": [
    "print(stack)"
   ]
  },
  {
   "cell_type": "markdown",
   "metadata": {},
   "source": [
    "### Queue"
   ]
  },
  {
   "cell_type": "code",
   "execution_count": 9,
   "metadata": {},
   "outputs": [],
   "source": [
    "from collections import deque"
   ]
  },
  {
   "cell_type": "code",
   "execution_count": 10,
   "metadata": {},
   "outputs": [],
   "source": [
    "queue = deque()"
   ]
  },
  {
   "cell_type": "code",
   "execution_count": 11,
   "metadata": {},
   "outputs": [],
   "source": [
    "queue.append(1)\n",
    "queue.append(2)\n",
    "queue.append(3)\n",
    "queue.append(4)"
   ]
  },
  {
   "cell_type": "code",
   "execution_count": 12,
   "metadata": {},
   "outputs": [
    {
     "name": "stdout",
     "output_type": "stream",
     "text": [
      "deque([1, 2, 3, 4])\n"
     ]
    }
   ],
   "source": [
    "print(queue)"
   ]
  },
  {
   "cell_type": "code",
   "execution_count": 13,
   "metadata": {},
   "outputs": [],
   "source": [
    "x = queue.popleft()"
   ]
  },
  {
   "cell_type": "code",
   "execution_count": 14,
   "metadata": {},
   "outputs": [
    {
     "data": {
      "text/plain": [
       "1"
      ]
     },
     "execution_count": 14,
     "metadata": {},
     "output_type": "execute_result"
    }
   ],
   "source": [
    "x"
   ]
  },
  {
   "cell_type": "code",
   "execution_count": 15,
   "metadata": {},
   "outputs": [
    {
     "name": "stdout",
     "output_type": "stream",
     "text": [
      "deque([2, 3, 4])\n"
     ]
    }
   ],
   "source": [
    "print(queue)"
   ]
  },
  {
   "cell_type": "markdown",
   "metadata": {},
   "source": [
    "### Hash Table"
   ]
  },
  {
   "cell_type": "code",
   "execution_count": 16,
   "metadata": {},
   "outputs": [],
   "source": [
    "items1 = dict({\"key1\" : 1, \"key2\" : 2, \"key3\" : \"three\"})"
   ]
  },
  {
   "cell_type": "code",
   "execution_count": 18,
   "metadata": {},
   "outputs": [
    {
     "data": {
      "text/plain": [
       "{'key1': 1, 'key2': 2, 'key3': 'three'}"
      ]
     },
     "execution_count": 18,
     "metadata": {},
     "output_type": "execute_result"
    }
   ],
   "source": [
    "items1"
   ]
  },
  {
   "cell_type": "code",
   "execution_count": 19,
   "metadata": {},
   "outputs": [],
   "source": [
    "items2 = {}"
   ]
  },
  {
   "cell_type": "code",
   "execution_count": 20,
   "metadata": {},
   "outputs": [],
   "source": [
    "items2[\"key1\"] = 1 \n",
    "items2[\"key2\"] = 2 \n",
    "items2[\"key3\"] = 3 "
   ]
  },
  {
   "cell_type": "code",
   "execution_count": 21,
   "metadata": {
    "scrolled": true
   },
   "outputs": [
    {
     "data": {
      "text/plain": [
       "{'key1': 1, 'key2': 2, 'key3': 3}"
      ]
     },
     "execution_count": 21,
     "metadata": {},
     "output_type": "execute_result"
    }
   ],
   "source": [
    "items2"
   ]
  },
  {
   "cell_type": "code",
   "execution_count": 23,
   "metadata": {},
   "outputs": [],
   "source": [
    "items2[\"key2\"] = \"two\""
   ]
  },
  {
   "cell_type": "code",
   "execution_count": 24,
   "metadata": {
    "scrolled": true
   },
   "outputs": [
    {
     "data": {
      "text/plain": [
       "{'key1': 1, 'key2': 'two', 'key3': 3}"
      ]
     },
     "execution_count": 24,
     "metadata": {},
     "output_type": "execute_result"
    }
   ],
   "source": [
    "items2"
   ]
  },
  {
   "cell_type": "code",
   "execution_count": 25,
   "metadata": {
    "scrolled": true
   },
   "outputs": [
    {
     "name": "stdout",
     "output_type": "stream",
     "text": [
      "key:  key1 value 1\n",
      "key:  key2 value two\n",
      "key:  key3 value 3\n"
     ]
    }
   ],
   "source": [
    "for key, value in items2.items():\n",
    "    print(\"key: \", key, \"value\", value)"
   ]
  }
 ],
 "metadata": {
  "kernelspec": {
   "display_name": "Python 3",
   "language": "python",
   "name": "python3"
  },
  "language_info": {
   "codemirror_mode": {
    "name": "ipython",
    "version": 3
   },
   "file_extension": ".py",
   "mimetype": "text/x-python",
   "name": "python",
   "nbconvert_exporter": "python",
   "pygments_lexer": "ipython3",
   "version": "3.7.4"
  }
 },
 "nbformat": 4,
 "nbformat_minor": 2
}
